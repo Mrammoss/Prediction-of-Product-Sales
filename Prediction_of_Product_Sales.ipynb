{
  "nbformat": 4,
  "nbformat_minor": 0,
  "metadata": {
    "colab": {
      "provenance": [],
      "authorship_tag": "ABX9TyM8TwKuG9Y9qohq5dYMokfl",
      "include_colab_link": true
    },
    "kernelspec": {
      "name": "python3",
      "display_name": "Python 3"
    },
    "language_info": {
      "name": "python"
    }
  },
  "cells": [
    {
      "cell_type": "markdown",
      "metadata": {
        "id": "view-in-github",
        "colab_type": "text"
      },
      "source": [
        "<a href=\"https://colab.research.google.com/github/Mrammoss/Prediction-of-Product-Sales/blob/main/Prediction_of_Product_Sales.ipynb\" target=\"_parent\"><img src=\"https://colab.research.google.com/assets/colab-badge.svg\" alt=\"Open In Colab\"/></a>"
      ]
    },
    {
      "cell_type": "markdown",
      "source": [
        "# Prediction of Product Sales\n"
      ],
      "metadata": {
        "id": "IezonvV8v72M"
      }
    },
    {
      "cell_type": "markdown",
      "source": [
        "- Author: Miguel Ramos"
      ],
      "metadata": {
        "id": "Ug1mWwWewmc9"
      }
    },
    {
      "cell_type": "markdown",
      "source": [
        "##\"Project Overview\""
      ],
      "metadata": {
        "id": "2zvp-2VwwtLc"
      }
    },
    {
      "cell_type": "markdown",
      "source": [
        "##\"Load and Inspect Data\""
      ],
      "metadata": {
        "id": "0AvWyux9xvbB"
      }
    },
    {
      "cell_type": "markdown",
      "source": [
        "##\"Clean Data\""
      ],
      "metadata": {
        "id": "d72gJR9cx6_s"
      }
    },
    {
      "cell_type": "markdown",
      "source": [
        "##\"Exploratory Data Analysis\"\n"
      ],
      "metadata": {
        "id": "wssVr5mpyAuE"
      }
    },
    {
      "cell_type": "markdown",
      "source": [
        "##\"Feature Inspection\""
      ],
      "metadata": {
        "id": "LcO_2LIbyKQu"
      }
    }
  ]
}