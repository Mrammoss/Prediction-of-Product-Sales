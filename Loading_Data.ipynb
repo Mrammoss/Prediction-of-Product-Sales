{
  "nbformat": 4,
  "nbformat_minor": 0,
  "metadata": {
    "colab": {
      "provenance": [],
      "mount_file_id": "https://github.com/Mrammoss/Prediction-of-Product-Sales/blob/main/Loading_Data.ipynb",
      "authorship_tag": "ABX9TyMYWy0vNjYwFYGMUJCS7/EP",
      "include_colab_link": true
    },
    "kernelspec": {
      "name": "python3",
      "display_name": "Python 3"
    },
    "language_info": {
      "name": "python"
    }
  },
  "cells": [
    {
      "cell_type": "markdown",
      "metadata": {
        "id": "view-in-github",
        "colab_type": "text"
      },
      "source": [
        "<a href=\"https://colab.research.google.com/github/Mrammoss/Prediction-of-Product-Sales/blob/main/Loading_Data.ipynb\" target=\"_parent\"><img src=\"https://colab.research.google.com/assets/colab-badge.svg\" alt=\"Open In Colab\"/></a>"
      ]
    },
    {
      "cell_type": "markdown",
      "source": [
        "# Loading Data"
      ],
      "metadata": {
        "id": "RrHXKqBkqUfQ"
      }
    },
    {
      "cell_type": "code",
      "execution_count": 5,
      "metadata": {
        "id": "BvdJCkv2p2zS",
        "colab": {
          "base_uri": "https://localhost:8080/"
        },
        "outputId": "7ebd58d5-2438-43cb-a0f4-77871440c5ec"
      },
      "outputs": [
        {
          "output_type": "stream",
          "name": "stdout",
          "text": [
            "<class 'pandas.core.frame.DataFrame'>\n",
            "RangeIndex: 8523 entries, 0 to 8522\n",
            "Data columns (total 12 columns):\n",
            " #   Column                     Non-Null Count  Dtype  \n",
            "---  ------                     --------------  -----  \n",
            " 0   Item_Identifier            8523 non-null   object \n",
            " 1   Item_Weight                7060 non-null   float64\n",
            " 2   Item_Fat_Content           8523 non-null   object \n",
            " 3   Item_Visibility            8523 non-null   float64\n",
            " 4   Item_Type                  8523 non-null   object \n",
            " 5   Item_MRP                   8523 non-null   float64\n",
            " 6   Outlet_Identifier          8523 non-null   object \n",
            " 7   Outlet_Establishment_Year  8523 non-null   int64  \n",
            " 8   Outlet_Size                6113 non-null   object \n",
            " 9   Outlet_Location_Type       8523 non-null   object \n",
            " 10  Outlet_Type                8523 non-null   object \n",
            " 11  Item_Outlet_Sales          8523 non-null   float64\n",
            "dtypes: float64(4), int64(1), object(7)\n",
            "memory usage: 799.2+ KB\n"
          ]
        }
      ],
      "source": [
        "import pandas as pd\n",
        "\n",
        "df = pd.read_csv('/content/drive/MyDrive/CodingDojo/01-Fundamentals/Week02/Data/sales_predictions_2023.csv')\n",
        "df.head()\n",
        "df.info()"
      ]
    },
    {
      "cell_type": "markdown",
      "source": [
        "# Data Cleaning"
      ],
      "metadata": {
        "id": "TrAsLtJFrbC8"
      }
    },
    {
      "cell_type": "markdown",
      "source": [
        "1. How many rows and columns?"
      ],
      "metadata": {
        "id": "1VvKmkNYp2_s"
      }
    },
    {
      "cell_type": "code",
      "source": [
        "\n",
        "df.shape\n"
      ],
      "metadata": {
        "colab": {
          "base_uri": "https://localhost:8080/"
        },
        "id": "fpjS2LIcrdpJ",
        "outputId": "811a2674-3656-4821-9c9d-8630b737beba"
      },
      "execution_count": 6,
      "outputs": [
        {
          "output_type": "execute_result",
          "data": {
            "text/plain": [
              "(8523, 12)"
            ]
          },
          "metadata": {},
          "execution_count": 6
        }
      ]
    },
    {
      "cell_type": "markdown",
      "source": [
        "There are (8523) rows and (12) columns."
      ],
      "metadata": {
        "id": "4i43glHGqHfe"
      }
    },
    {
      "cell_type": "markdown",
      "source": [
        "2. What are the datatypes of each variable?"
      ],
      "metadata": {
        "id": "S6MkuhMPqVuO"
      }
    },
    {
      "cell_type": "markdown",
      "source": [
        "These are the datatypes of all the current variables"
      ],
      "metadata": {
        "id": "HPD32KVSrKZQ"
      }
    },
    {
      "cell_type": "code",
      "source": [
        "df.info()\n",
        "\n"
      ],
      "metadata": {
        "id": "zmzyySKXsbZ3",
        "outputId": "04c83932-d9f8-4f05-e85f-c8981aa2b4e8",
        "colab": {
          "base_uri": "https://localhost:8080/"
        }
      },
      "execution_count": 7,
      "outputs": [
        {
          "output_type": "stream",
          "name": "stdout",
          "text": [
            "<class 'pandas.core.frame.DataFrame'>\n",
            "RangeIndex: 8523 entries, 0 to 8522\n",
            "Data columns (total 12 columns):\n",
            " #   Column                     Non-Null Count  Dtype  \n",
            "---  ------                     --------------  -----  \n",
            " 0   Item_Identifier            8523 non-null   object \n",
            " 1   Item_Weight                7060 non-null   float64\n",
            " 2   Item_Fat_Content           8523 non-null   object \n",
            " 3   Item_Visibility            8523 non-null   float64\n",
            " 4   Item_Type                  8523 non-null   object \n",
            " 5   Item_MRP                   8523 non-null   float64\n",
            " 6   Outlet_Identifier          8523 non-null   object \n",
            " 7   Outlet_Establishment_Year  8523 non-null   int64  \n",
            " 8   Outlet_Size                6113 non-null   object \n",
            " 9   Outlet_Location_Type       8523 non-null   object \n",
            " 10  Outlet_Type                8523 non-null   object \n",
            " 11  Item_Outlet_Sales          8523 non-null   float64\n",
            "dtypes: float64(4), int64(1), object(7)\n",
            "memory usage: 799.2+ KB\n"
          ]
        }
      ]
    },
    {
      "cell_type": "markdown",
      "source": [
        "3. Are there any duplicates? If so, drop any duplicates.\n"
      ],
      "metadata": {
        "id": "9nS1HVL2rsSX"
      }
    },
    {
      "cell_type": "markdown",
      "source": [
        "Here it gives us a 0 for the sum of duplicates. Meaning there are only unique values"
      ],
      "metadata": {
        "id": "0XxkdFtar0JP"
      }
    },
    {
      "cell_type": "code",
      "source": [
        "df.duplicated().sum()\n"
      ],
      "metadata": {
        "colab": {
          "base_uri": "https://localhost:8080/"
        },
        "id": "7kznt_0YtZ7s",
        "outputId": "5f47ed7e-45b0-444c-cb59-c3a404812a77"
      },
      "execution_count": 8,
      "outputs": [
        {
          "output_type": "execute_result",
          "data": {
            "text/plain": [
              "0"
            ]
          },
          "metadata": {},
          "execution_count": 8
        }
      ]
    },
    {
      "cell_type": "markdown",
      "source": [
        "4. Identify missing values."
      ],
      "metadata": {
        "id": "CikLOSh1st7j"
      }
    },
    {
      "cell_type": "markdown",
      "source": [
        "Here we are missing (1463) float values for 'Item_Weight', and (2410) object values for 'Outlet_Size'"
      ],
      "metadata": {
        "id": "eru_0S9ss1Ty"
      }
    },
    {
      "cell_type": "code",
      "source": [
        "\n",
        "df.isna().sum()"
      ],
      "metadata": {
        "colab": {
          "base_uri": "https://localhost:8080/"
        },
        "id": "EK3gOM6KuEyq",
        "outputId": "6986cf49-dbb1-441b-81c2-a4f7ce186ba6"
      },
      "execution_count": 9,
      "outputs": [
        {
          "output_type": "execute_result",
          "data": {
            "text/plain": [
              "Item_Identifier                 0\n",
              "Item_Weight                  1463\n",
              "Item_Fat_Content                0\n",
              "Item_Visibility                 0\n",
              "Item_Type                       0\n",
              "Item_MRP                        0\n",
              "Outlet_Identifier               0\n",
              "Outlet_Establishment_Year       0\n",
              "Outlet_Size                  2410\n",
              "Outlet_Location_Type            0\n",
              "Outlet_Type                     0\n",
              "Item_Outlet_Sales               0\n",
              "dtype: int64"
            ]
          },
          "metadata": {},
          "execution_count": 9
        }
      ]
    },
    {
      "cell_type": "markdown",
      "source": [
        "5. Address the missing value by using a placeholder value."
      ],
      "metadata": {
        "id": "ZbhhtixwtWWt"
      }
    },
    {
      "cell_type": "markdown",
      "source": [
        "I have replaced every missing value in 'Item_Weight' for a -1 here. The sum of missing values is 0, therefore there are no more missing values."
      ],
      "metadata": {
        "id": "NRyP5jT2ufd_"
      }
    },
    {
      "cell_type": "code",
      "source": [
        "\n",
        "df['Item_Weight']=df['Item_Weight'].fillna(-1)\n",
        "df['Item_Weight'].isna().sum()"
      ],
      "metadata": {
        "id": "_ntGA7BCutgk",
        "outputId": "77741450-dc83-4781-c1a6-c56016488950",
        "colab": {
          "base_uri": "https://localhost:8080/"
        }
      },
      "execution_count": 10,
      "outputs": [
        {
          "output_type": "execute_result",
          "data": {
            "text/plain": [
              "0"
            ]
          },
          "metadata": {},
          "execution_count": 10
        }
      ]
    },
    {
      "cell_type": "markdown",
      "source": [
        "I have replaced every missing value in 'Outlet_Size' with 'MISSING' here. The sum of missing values is 0, therefore there are no more missing values."
      ],
      "metadata": {
        "id": "HeFv9eyTvPxI"
      }
    },
    {
      "cell_type": "code",
      "source": [
        "\n",
        "\n",
        "df['Outlet_Size'] = df['Outlet_Size'].fillna('MISSING')\n",
        "df['Outlet_Size'].isna().sum()"
      ],
      "metadata": {
        "id": "SCDPVaijwAe8",
        "outputId": "4acb2be3-7b26-4b69-b086-3ebe124c1a92",
        "colab": {
          "base_uri": "https://localhost:8080/"
        }
      },
      "execution_count": 11,
      "outputs": [
        {
          "output_type": "execute_result",
          "data": {
            "text/plain": [
              "0"
            ]
          },
          "metadata": {},
          "execution_count": 11
        }
      ]
    },
    {
      "cell_type": "markdown",
      "source": [
        "6. Confirm that there are no missing values after addressing them."
      ],
      "metadata": {
        "id": "wTv9jnROz88x"
      }
    },
    {
      "cell_type": "markdown",
      "source": [
        "There are no values in the sum of missing values. There are now no missing values in the dataframe."
      ],
      "metadata": {
        "id": "-5AhTWLa0A9n"
      }
    },
    {
      "cell_type": "code",
      "source": [
        "\n",
        "df.isna().sum()"
      ],
      "metadata": {
        "colab": {
          "base_uri": "https://localhost:8080/"
        },
        "id": "V_A4i-PmveMb",
        "outputId": "1d9c0adc-8619-4c97-ba08-f06c9534848f"
      },
      "execution_count": 12,
      "outputs": [
        {
          "output_type": "execute_result",
          "data": {
            "text/plain": [
              "Item_Identifier              0\n",
              "Item_Weight                  0\n",
              "Item_Fat_Content             0\n",
              "Item_Visibility              0\n",
              "Item_Type                    0\n",
              "Item_MRP                     0\n",
              "Outlet_Identifier            0\n",
              "Outlet_Establishment_Year    0\n",
              "Outlet_Size                  0\n",
              "Outlet_Location_Type         0\n",
              "Outlet_Type                  0\n",
              "Item_Outlet_Sales            0\n",
              "dtype: int64"
            ]
          },
          "metadata": {},
          "execution_count": 12
        }
      ]
    },
    {
      "cell_type": "markdown",
      "source": [
        "7. Find and fix any incosistent categories of data."
      ],
      "metadata": {
        "id": "R8SPjkvI0TAI"
      }
    },
    {
      "cell_type": "code",
      "source": [
        "#Displaying the values to see what is inconsistent.\n",
        "df['Item_Fat_Content'].value_counts()"
      ],
      "metadata": {
        "colab": {
          "base_uri": "https://localhost:8080/"
        },
        "id": "VT3aGsS0vsw0",
        "outputId": "6be6273f-c230-4595-dc23-d85d19538180"
      },
      "execution_count": 13,
      "outputs": [
        {
          "output_type": "execute_result",
          "data": {
            "text/plain": [
              "Low Fat    5089\n",
              "Regular    2889\n",
              "LF          316\n",
              "reg         117\n",
              "low fat     112\n",
              "Name: Item_Fat_Content, dtype: int64"
            ]
          },
          "metadata": {},
          "execution_count": 13
        }
      ]
    },
    {
      "cell_type": "code",
      "source": [
        "# Correcting errors to have consistent names.\n",
        "df['Item_Fat_Content']=df['Item_Fat_Content'].replace({\"LF\":\"Low Fat\", \"reg\": \"Regular\", \"low fat\":\"Low Fat\"})\n",
        "df['Item_Fat_Content'].value_counts()"
      ],
      "metadata": {
        "colab": {
          "base_uri": "https://localhost:8080/"
        },
        "id": "pQkWgbyqxudh",
        "outputId": "58d67dea-e94f-45f9-93d7-fe92db2b5ab7"
      },
      "execution_count": 14,
      "outputs": [
        {
          "output_type": "execute_result",
          "data": {
            "text/plain": [
              "Low Fat    5517\n",
              "Regular    3006\n",
              "Name: Item_Fat_Content, dtype: int64"
            ]
          },
          "metadata": {},
          "execution_count": 14
        }
      ]
    },
    {
      "cell_type": "markdown",
      "source": [
        "8. For any numerical columns, obtain the summary statistics of each (min,max,mean) ."
      ],
      "metadata": {
        "id": "WDODCPWW1fZ6"
      }
    },
    {
      "cell_type": "markdown",
      "source": [
        "- Minimum"
      ],
      "metadata": {
        "id": "pVkwAFIm3UQd"
      }
    },
    {
      "cell_type": "code",
      "source": [
        "\n",
        "df.select_dtypes(include=['number']).min()"
      ],
      "metadata": {
        "colab": {
          "base_uri": "https://localhost:8080/"
        },
        "id": "_HKqT4Qw0igg",
        "outputId": "53f00163-1239-4bbf-c75b-c4dca64a829c"
      },
      "execution_count": 15,
      "outputs": [
        {
          "output_type": "execute_result",
          "data": {
            "text/plain": [
              "Item_Weight                    -1.00\n",
              "Item_Visibility                 0.00\n",
              "Item_MRP                       31.29\n",
              "Outlet_Establishment_Year    1985.00\n",
              "Item_Outlet_Sales              33.29\n",
              "dtype: float64"
            ]
          },
          "metadata": {},
          "execution_count": 15
        }
      ]
    },
    {
      "cell_type": "markdown",
      "source": [
        "- Maximum"
      ],
      "metadata": {
        "id": "oLPv7nSU3Yce"
      }
    },
    {
      "cell_type": "code",
      "source": [
        "df.select_dtypes(include=['number']).max()"
      ],
      "metadata": {
        "id": "Q3eui1na29eH",
        "outputId": "94405caf-deb8-46e3-b915-b135cefa26ca",
        "colab": {
          "base_uri": "https://localhost:8080/"
        }
      },
      "execution_count": 16,
      "outputs": [
        {
          "output_type": "execute_result",
          "data": {
            "text/plain": [
              "Item_Weight                     21.350000\n",
              "Item_Visibility                  0.328391\n",
              "Item_MRP                       266.888400\n",
              "Outlet_Establishment_Year     2009.000000\n",
              "Item_Outlet_Sales            13086.964800\n",
              "dtype: float64"
            ]
          },
          "metadata": {},
          "execution_count": 16
        }
      ]
    },
    {
      "cell_type": "markdown",
      "source": [
        "- Mean"
      ],
      "metadata": {
        "id": "-qODj_p03cfi"
      }
    },
    {
      "cell_type": "code",
      "source": [
        "df.select_dtypes(include=['number']).mean()"
      ],
      "metadata": {
        "id": "BEB7fpE33Hsk",
        "outputId": "3a465126-31e3-4f4b-ce1c-c43f35698607",
        "colab": {
          "base_uri": "https://localhost:8080/"
        }
      },
      "execution_count": 17,
      "outputs": [
        {
          "output_type": "execute_result",
          "data": {
            "text/plain": [
              "Item_Weight                    10.478936\n",
              "Item_Visibility                 0.066132\n",
              "Item_MRP                      140.992782\n",
              "Outlet_Establishment_Year    1997.831867\n",
              "Item_Outlet_Sales            2181.288914\n",
              "dtype: float64"
            ]
          },
          "metadata": {},
          "execution_count": 17
        }
      ]
    },
    {
      "cell_type": "markdown",
      "source": [
        "### Imports for Plots\n",
        "\n"
      ],
      "metadata": {
        "id": "1iSHQBizAIgZ"
      }
    },
    {
      "cell_type": "code",
      "source": [
        "import matplotlib.pyplot as plt\n",
        "import seaborn as sns\n",
        "import numpy as np"
      ],
      "metadata": {
        "id": "eakYux-MARYW"
      },
      "execution_count": 18,
      "outputs": []
    },
    {
      "cell_type": "markdown",
      "source": [
        "Distributions of Numerical Features"
      ],
      "metadata": {
        "id": "3enteZp-AqB_"
      }
    },
    {
      "cell_type": "code",
      "source": [
        "ax = sns.histplot(data=df, x='Item_Visibility')"
      ],
      "metadata": {
        "colab": {
          "base_uri": "https://localhost:8080/",
          "height": 450
        },
        "id": "2JEKCHxFAwJF",
        "outputId": "910f27c6-3300-4145-8ac0-0526736c80a2"
      },
      "execution_count": 37,
      "outputs": [
        {
          "output_type": "display_data",
          "data": {
            "text/plain": [
              "<Figure size 640x480 with 1 Axes>"
            ],
            "image/png": "[encoded data removed]"
          },
          "metadata": {}
        }
      ]
    },
    {
      "cell_type": "code",
      "source": [
        "ax = sns.boxplot(data=df, x='Outlet_Establishment_Year', y= 'Item_Outlet_Sales')"
      ],
      "metadata": {
        "colab": {
          "base_uri": "https://localhost:8080/",
          "height": 450
        },
        "id": "ll13vBnODiYa",
        "outputId": "ffd4bec5-10ef-4422-8e8f-6853ac7d9f9b"
      },
      "execution_count": 32,
      "outputs": [
        {
          "output_type": "display_data",
          "data": {
            "text/plain": [
              "<Figure size 640x480 with 1 Axes>"
            ],
            "image/png": "[encoded data removed]"
          },
          "metadata": {}
        }
      ]
    },
    {
      "cell_type": "code",
      "source": [
        "ax = sns.countplot(data=df, x='Outlet_Establishment_Year', hue='Outlet_Size')"
      ],
      "metadata": {
        "colab": {
          "base_uri": "https://localhost:8080/",
          "height": 450
        },
        "id": "0iyhr09tFpdE",
        "outputId": "8d2c6a9f-e390-4ea9-8f1f-c96e2a57d599"
      },
      "execution_count": 50,
      "outputs": [
        {
          "output_type": "display_data",
          "data": {
            "text/plain": [
              "<Figure size 640x480 with 1 Axes>"
            ],
            "image/png": "[encoded data removed]"
          },
          "metadata": {}
        }
      ]
    },
    {
      "cell_type": "code",
      "source": [
        "corr = df.corr(numeric_only = True)\n",
        "corr.round(2)\n",
        "sns.heatmap(corr, cmap='viridis', annot = True)"
      ],
      "metadata": {
        "colab": {
          "base_uri": "https://localhost:8080/",
          "height": 623
        },
        "id": "mWwP-MMyIj9b",
        "outputId": "d782531d-2dad-44b6-9fc8-5f7b5227ab36"
      },
      "execution_count": 52,
      "outputs": [
        {
          "output_type": "execute_result",
          "data": {
            "text/plain": [
              "<Axes: >"
            ]
          },
          "metadata": {},
          "execution_count": 52
        },
        {
          "output_type": "display_data",
          "data": {
            "text/plain": [
              "<Figure size 640x480 with 2 Axes>"
            ],
            "image/png": "[encoded data removed]"
          },
          "metadata": {}
        }
      ]
    }
  ]
}